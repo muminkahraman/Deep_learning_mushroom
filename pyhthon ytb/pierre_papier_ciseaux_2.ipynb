{
 "cells": [
  {
   "cell_type": "code",
   "execution_count": 1,
   "id": "sapphire-interpretation",
   "metadata": {},
   "outputs": [],
   "source": [
    "import matplotlib.pyplot as plt\n",
    "import numpy as np\n",
    "\n",
    "import tensorflow as tf\n",
    "import tensorflow_datasets as tfds\n",
    "\n",
    "from tensorflow import keras\n",
    "tfds.disable_progress_bar()"
   ]
  },
  {
   "cell_type": "code",
   "execution_count": 2,
   "id": "advised-arrest",
   "metadata": {},
   "outputs": [
    {
     "name": "stdout",
     "output_type": "stream",
     "text": [
      "WARNING:tensorflow:From <ipython-input-2-17bb7203622b>:1: is_gpu_available (from tensorflow.python.framework.test_util) is deprecated and will be removed in a future version.\n",
      "Instructions for updating:\n",
      "Use `tf.config.list_physical_devices('GPU')` instead.\n"
     ]
    },
    {
     "data": {
      "text/plain": [
       "False"
      ]
     },
     "execution_count": 2,
     "metadata": {},
     "output_type": "execute_result"
    }
   ],
   "source": [
    "tf.test.is_gpu_available()"
   ]
  },
  {
   "cell_type": "code",
   "execution_count": 2,
   "id": "amazing-miller",
   "metadata": {},
   "outputs": [
    {
     "data": {
      "text/plain": [
       "tfds.core.DatasetInfo(\n",
       "    name='rock_paper_scissors',\n",
       "    full_name='rock_paper_scissors/3.0.0',\n",
       "    description=\"\"\"\n",
       "    Images of hands playing rock, paper, scissor game.\n",
       "    \"\"\",\n",
       "    homepage='http://laurencemoroney.com/rock-paper-scissors-dataset',\n",
       "    data_path='C:\\\\Users\\\\mumin\\\\tensorflow_datasets\\\\rock_paper_scissors\\\\3.0.0',\n",
       "    download_size=219.53 MiB,\n",
       "    dataset_size=219.23 MiB,\n",
       "    features=FeaturesDict({\n",
       "        'image': Image(shape=(300, 300, 3), dtype=tf.uint8),\n",
       "        'label': ClassLabel(shape=(), dtype=tf.int64, num_classes=3),\n",
       "    }),\n",
       "    supervised_keys=('image', 'label'),\n",
       "    splits={\n",
       "        'test': <SplitInfo num_examples=372, num_shards=1>,\n",
       "        'train': <SplitInfo num_examples=2520, num_shards=2>,\n",
       "    },\n",
       "    citation=\"\"\"@ONLINE {rps,\n",
       "    author = \"Laurence Moroney\",\n",
       "    title = \"Rock, Paper, Scissors Dataset\",\n",
       "    month = \"feb\",\n",
       "    year = \"2019\",\n",
       "    url = \"http://laurencemoroney.com/rock-paper-scissors-dataset\"\n",
       "    }\"\"\",\n",
       ")"
      ]
     },
     "execution_count": 2,
     "metadata": {},
     "output_type": "execute_result"
    }
   ],
   "source": [
    "builder = tfds.builder('rock_paper_scissors')\n",
    "info = builder.info\n",
    "\n",
    "info"
   ]
  },
  {
   "cell_type": "code",
   "execution_count": 3,
   "id": "timely-backup",
   "metadata": {},
   "outputs": [],
   "source": [
    "ds_train = tfds.load(name=\"rock_paper_scissors\", split=\"train\")\n",
    "ds_test = tfds.load(name=\"rock_paper_scissors\", split=\"test\")"
   ]
  },
  {
   "cell_type": "code",
   "execution_count": 4,
   "id": "incoming-origin",
   "metadata": {},
   "outputs": [],
   "source": [
    "train_images = np.array([example['image'].numpy()[:,:,0] for example in ds_train])\n",
    "train_labels = np.array([example['label'].numpy() for example in ds_train])\n",
    "\n",
    "test_images = np.array([example['image'].numpy()[:,:,0] for example in ds_test])\n",
    "test_labels = np.array([example['label'].numpy() for example in ds_test])"
   ]
  },
  {
   "cell_type": "code",
   "execution_count": 5,
   "id": "solar-exchange",
   "metadata": {},
   "outputs": [],
   "source": [
    "train_images = train_images.reshape(2520, 300, 300, 1)\n",
    "test_images = test_images.reshape(372, 300, 300, 1)\n",
    "\n",
    "train_images = train_images.astype('float32')\n",
    "test_images = test_images.astype('float32')\n",
    "\n",
    "train_images /= 255\n",
    "test_images /= 255"
   ]
  },
  {
   "cell_type": "code",
   "execution_count": 6,
   "id": "secret-smile",
   "metadata": {},
   "outputs": [
    {
     "name": "stdout",
     "output_type": "stream",
     "text": [
      "Epoch 1/5\n",
      "79/79 [==============================] - 25s 288ms/step - loss: 57.1682 - accuracy: 0.3585\n",
      "Epoch 2/5\n",
      "79/79 [==============================] - 22s 274ms/step - loss: 1.7476 - accuracy: 0.6646\n",
      "Epoch 3/5\n",
      "79/79 [==============================] - 22s 282ms/step - loss: 1.1462 - accuracy: 0.7412\n",
      "Epoch 4/5\n",
      "79/79 [==============================] - 23s 291ms/step - loss: 0.4454 - accuracy: 0.8473\n",
      "Epoch 5/5\n",
      "79/79 [==============================] - 23s 285ms/step - loss: 0.8524 - accuracy: 0.7586\n"
     ]
    },
    {
     "data": {
      "text/plain": [
       "<tensorflow.python.keras.callbacks.History at 0x1fea6091f70>"
      ]
     },
     "execution_count": 6,
     "metadata": {},
     "output_type": "execute_result"
    }
   ],
   "source": [
    " model = keras.Sequential([\n",
    "  keras.layers.Flatten(),\n",
    "  keras.layers.Dense(512, activation='relu'),\n",
    "  keras.layers.Dense(256, activation='relu'),\n",
    "  keras.layers.Dense(3, activation='softmax')\n",
    "])\n",
    "\n",
    "model.compile(optimizer='adam',\n",
    "              loss=keras.losses.SparseCategoricalCrossentropy(),\n",
    "              metrics=['accuracy'])\n",
    "\n",
    "model.fit(train_images, train_labels, epochs=5, batch_size=32)"
   ]
  },
  {
   "cell_type": "code",
   "execution_count": 7,
   "id": "prerequisite-ambassador",
   "metadata": {},
   "outputs": [
    {
     "name": "stdout",
     "output_type": "stream",
     "text": [
      "12/12 [==============================] - 2s 68ms/step - loss: 1.6753 - accuracy: 0.6048\n"
     ]
    },
    {
     "data": {
      "text/plain": [
       "[1.6752616167068481, 0.6048387289047241]"
      ]
     },
     "execution_count": 7,
     "metadata": {},
     "output_type": "execute_result"
    }
   ],
   "source": [
    "model.evaluate(test_images, test_labels)"
   ]
  },
  {
   "cell_type": "code",
   "execution_count": null,
   "id": "closed-revolution",
   "metadata": {},
   "outputs": [
    {
     "name": "stdout",
     "output_type": "stream",
     "text": [
      "Epoch 1/5\n"
     ]
    }
   ],
   "source": [
    "#CNN\n",
    "model = keras.Sequential([\n",
    "   keras.layers.Conv2D(64, 3, activation='relu', input_shape=(300,300,1)),\n",
    "   keras.layers.Conv2D(32, 3, activation='relu'),\n",
    "   keras.layers.Flatten(),\n",
    "   keras.layers.Dense(3, activation='softmax')\n",
    "])\n",
    "\n",
    "model.compile(optimizer='adam',\n",
    "              loss=keras.losses.SparseCategoricalCrossentropy(),\n",
    "              metrics=['accuracy'])\n",
    "\n",
    "model.fit(train_images, train_labels, epochs=3, batch_size=32)"
   ]
  }
 ],
 "metadata": {
  "kernelspec": {
   "display_name": "Python 3",
   "language": "python",
   "name": "python3"
  },
  "language_info": {
   "codemirror_mode": {
    "name": "ipython",
    "version": 3
   },
   "file_extension": ".py",
   "mimetype": "text/x-python",
   "name": "python",
   "nbconvert_exporter": "python",
   "pygments_lexer": "ipython3",
   "version": "3.8.6"
  }
 },
 "nbformat": 4,
 "nbformat_minor": 5
}
